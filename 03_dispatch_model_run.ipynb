{
 "cells": [
  {
   "cell_type": "markdown",
   "metadata": {
    "ExecuteTime": {
     "end_time": "2020-04-13T17:25:55.523256Z",
     "start_time": "2020-04-13T17:25:55.511142Z"
    }
   },
   "source": [
    "<h1>Perform dispatch model/Grimsel runs<span class=\"tocSkip\"></span></h1>\n",
    "\n",
    "Companion notebook #3 of 4 of the paper \n",
    ">M.C.Soini *et al.*, **On the market displacement of incumbent grid-connected electricity storage by more efficient storage**.\n",
    "\n",
    "This notebook performs model runs discussed in section 3.3 of the paper.\n",
    "Static HTML files are included with the paper's supplementary material.The analysis of the model results is performed in a separate [Jupyter Notebook](https://github.com/mcsoini/storage_displacement_supplementary/blob/master/04_dispatch_model_analysis.ipynb).\n",
    "\n",
    "**Instructions**\n",
    "* Grimsel requires a working CPLEX installation in a default location\n",
    "* Install dependencies as defined in the README"
   ]
  },
  {
   "cell_type": "markdown",
   "metadata": {
    "toc": true
   },
   "source": [
    "<h1>Table of Contents<span class=\"tocSkip\"></span></h1>\n",
    "<div class=\"toc\"><ul class=\"toc-item\"><li><span><a href=\"#Imports\" data-toc-modified-id=\"Imports-1\"><span class=\"toc-item-num\">1&nbsp;&nbsp;</span>Imports</a></span><ul class=\"toc-item\"><li><span><a href=\"#Grimsel-imports\" data-toc-modified-id=\"Grimsel-imports-1.1\"><span class=\"toc-item-num\">1.1&nbsp;&nbsp;</span>Grimsel imports</a></span></li></ul></li><li><span><a href=\"#Define-parameters\" data-toc-modified-id=\"Define-parameters-2\"><span class=\"toc-item-num\">2&nbsp;&nbsp;</span>Define parameters</a></span></li><li><span><a href=\"#Read-input-data\" data-toc-modified-id=\"Read-input-data-3\"><span class=\"toc-item-num\">3&nbsp;&nbsp;</span>Read input data</a></span></li><li><span><a href=\"#Model-input-table-adjustments\" data-toc-modified-id=\"Model-input-table-adjustments-4\"><span class=\"toc-item-num\">4&nbsp;&nbsp;</span>Model input table adjustments</a></span><ul class=\"toc-item\"><li><span><a href=\"#Raise-demand-by-grid-losses-and-set-grid-losses-to-0\" data-toc-modified-id=\"Raise-demand-by-grid-losses-and-set-grid-losses-to-0-4.1\"><span class=\"toc-item-num\">4.1&nbsp;&nbsp;</span>Raise demand by grid losses and set grid losses to 0</a></span></li><li><span><a href=\"#Adjust-PHS-properties\" data-toc-modified-id=\"Adjust-PHS-properties-4.2\"><span class=\"toc-item-num\">4.2&nbsp;&nbsp;</span>Adjust PHS properties</a></span></li></ul></li><li><span><a href=\"#Build-full-model\" data-toc-modified-id=\"Build-full-model-5\"><span class=\"toc-item-num\">5&nbsp;&nbsp;</span>Build full model</a></span></li><li><span><a href=\"#Model-component-adjustments\" data-toc-modified-id=\"Model-component-adjustments-6\"><span class=\"toc-item-num\">6&nbsp;&nbsp;</span>Model component adjustments</a></span></li><li><span><a href=\"#Define-the-model-modifications\" data-toc-modified-id=\"Define-the-model-modifications-7\"><span class=\"toc-item-num\">7&nbsp;&nbsp;</span>Define the model modifications</a></span></li><li><span><a href=\"#Run-the-model\" data-toc-modified-id=\"Run-the-model-8\"><span class=\"toc-item-num\">8&nbsp;&nbsp;</span>Run the model</a></span></li></ul></div>"
   ]
  },
  {
   "cell_type": "markdown",
   "metadata": {},
   "source": [
    "# Imports"
   ]
  },
  {
   "cell_type": "code",
   "execution_count": null,
   "metadata": {
    "ExecuteTime": {
     "end_time": "2020-04-14T06:49:22.400798Z",
     "start_time": "2020-04-14T06:49:22.016248Z"
    }
   },
   "outputs": [],
   "source": [
    "import sys, os, socket\n",
    "import numpy as np\n",
    "import pandas as pd\n",
    "from importlib import reload\n",
    "import itertools\n",
    "import pyomo.environ as po"
   ]
  },
  {
   "cell_type": "markdown",
   "metadata": {
    "ExecuteTime": {
     "end_time": "2020-04-13T18:05:32.401475Z",
     "start_time": "2020-04-13T18:05:32.398021Z"
    }
   },
   "source": [
    "## Grimsel imports"
   ]
  },
  {
   "cell_type": "code",
   "execution_count": null,
   "metadata": {
    "ExecuteTime": {
     "end_time": "2020-04-14T06:49:23.630888Z",
     "start_time": "2020-04-14T06:49:22.683841Z"
    }
   },
   "outputs": [],
   "source": [
    "import grimsel.core.model_base as model_base\n",
    "import grimsel.core.model_loop as model_loop\n",
    "from grimsel.core.model_base import ModelBase as MB\n",
    "from grimsel.core.io import IO as IO\n",
    "import grimsel.auxiliary.maps as maps\n",
    "from grimsel.auxiliary.aux_m_func import set_to_list\n",
    "from grimsel.core.parameters import ParameterAdder\n",
    "from grimsel.core.parameters import Par\n",
    "\n",
    "from grimsel import logger\n",
    "\n",
    "logger.setLevel('DEBUG')\n",
    "\n",
    "path_csv = os.path.abspath('MODEL_INPUT_CSV_FILES/')"
   ]
  },
  {
   "cell_type": "markdown",
   "metadata": {},
   "source": [
    "# Define parameters"
   ]
  },
  {
   "cell_type": "code",
   "execution_count": null,
   "metadata": {
    "ExecuteTime": {
     "end_time": "2020-04-14T06:49:25.226225Z",
     "start_time": "2020-04-14T06:49:25.221939Z"
    }
   },
   "outputs": [],
   "source": [
    "sc_out = 'out_value_test_scenonly'\n",
    "sc_out = 'out_value_test_all6hours'\n",
    "sc_out = 'compare_repro'"
   ]
  },
  {
   "cell_type": "code",
   "execution_count": null,
   "metadata": {
    "ExecuteTime": {
     "end_time": "2020-04-14T06:49:28.714774Z",
     "start_time": "2020-04-14T06:49:26.707358Z"
    }
   },
   "outputs": [],
   "source": [
    "# Model Parameters\n",
    "mkwargs = {\n",
    "           'symbolic_solver_labels': False,  # pyomo parameter, set to True for debugging\n",
    "            # select constraint groups; the default objective function is skipped in order to add a custom one (see below)\n",
    "           'constraint_groups': MB.get_constraint_groups(excl=['ror', 'variables', 'objective']),\n",
    "           'nthreads': 3,  # CPLEX multiprocessing\n",
    "           'keepfiles': False,  # if True: keep temporary files\n",
    "           }\n",
    "\n",
    "# Additional I/O parameters \n",
    "iokwargs = {'output_target': 'fastparquet',  \n",
    "            'cl_out': sc_out,  # output collection name, here: path for parquet files\n",
    "            'autocomplete_curtailment': False,  # if False: don't add curtailment in all nodes\n",
    "            'data_path': path_csv,  # input data csv files\n",
    "            'dev_mode': False  # if False: prompt warning if overwriting existing results\n",
    "           }\n",
    "\n",
    "# Specify names and numbers of model variations\n",
    "nsteps_default = [('swfy', 8, np.arange),    # 8 future years [2015, 2020, ..., 2050]\n",
    "                  ('swfz', 3, np.arange),    # Freeze cap (1), vc (2), or default (0)\n",
    "                  ('swst', 31, np.arange),   # vary new storage capacity in 31 steps\n",
    "                  ('swec', 2, np.arange),    # energy cost of storage (\\gamma_e)\n",
    "                 ]\n",
    "# Additional model loop parameters\n",
    "mlkwargs = {'nsteps': nsteps_default,\n",
    "            'full_setup': False\n",
    "            }\n",
    "\n",
    "ml = model_loop.ModelLoop(**mlkwargs, mkwargs=mkwargs, iokwargs=iokwargs)\n",
    "self = ml.m\n",
    "\n",
    "# Define values for the identification of model run variations.\n",
    "# The keys refer to the index column values in the ml.df_def_run table\n",
    "# The values are used below in the methods of the ModelLoopModifier class\n",
    "dict_fz = {0: 'default', 1: 'frz_cap', 2: 'frz_vc'}\n",
    "dict_fy = {0: 2015, 1: 2020, 2: 2030, 3: 2040, 4: 2050,\n",
    "           5:  2025, 6:  2035, 7:  2045}\n",
    "# defines new storage share of incumbent storage energy capacity\n",
    "dict_st = dict(enumerate(map(lambda x: int(x*10) / 10, np.linspace(0, 3, 31))))\n",
    "dict_ec = {0: 'early_phs', 1: 'early_bat'}  # relative energy cost\n",
    "\n"
   ]
  },
  {
   "cell_type": "markdown",
   "metadata": {},
   "source": [
    "# Read input data \n",
    "* Initialize model up to the point where all input data is read and adjusted (e.g. temporal averaging)"
   ]
  },
  {
   "cell_type": "code",
   "execution_count": null,
   "metadata": {
    "ExecuteTime": {
     "end_time": "2020-04-14T06:49:41.234977Z",
     "start_time": "2020-04-14T06:49:31.649597Z"
    }
   },
   "outputs": [],
   "source": [
    "ml.build_model(to_runlevel='input_data')"
   ]
  },
  {
   "cell_type": "markdown",
   "metadata": {
    "ExecuteTime": {
     "end_time": "2020-03-02T09:34:33.016486Z",
     "start_time": "2020-03-02T09:34:33.012348Z"
    }
   },
   "source": [
    "# Model input table adjustments"
   ]
  },
  {
   "cell_type": "markdown",
   "metadata": {
    "ExecuteTime": {
     "end_time": "2020-04-13T10:33:51.464629Z",
     "start_time": "2020-04-13T10:33:51.460252Z"
    }
   },
   "source": [
    "## Raise demand by grid losses and set grid losses to 0\n",
    "* Facilitates analysis \n",
    "* Affects profile (default year) and total demand future years\n",
    "* Permanent adjustments are made to the input tables (instead of the Pyomo components) in order to preserve them even when calling `reset_all_parameters`"
   ]
  },
  {
   "cell_type": "code",
   "execution_count": null,
   "metadata": {
    "ExecuteTime": {
     "end_time": "2020-04-14T06:49:45.229759Z",
     "start_time": "2020-04-14T06:49:45.201237Z"
    }
   },
   "outputs": [],
   "source": [
    "df_gl = ml.m.df_node_encar.set_index('dmnd_pf_id').grid_losses\n",
    "ml.m.df_profdmnd = ml.m.df_profdmnd.join(df_gl, on='dmnd_pf_id')\n",
    "ml.m.df_profdmnd['value'] = (ml.m.df_profdmnd['value'] * (1 + ml.m.df_profdmnd.grid_losses))\n",
    "ml.m.df_profdmnd = ml.m.df_profdmnd.drop('grid_losses', axis=1)\n",
    "\n",
    "cols_dmnd_sum = [c for c in ml.m.df_node_encar.columns if 'dmnd_sum' in c]\n",
    "ml.m.df_node_encar[cols_dmnd_sum] = (\n",
    "        ml.m.df_node_encar[cols_dmnd_sum]\n",
    "            .multiply(1 + ml.m.df_node_encar.grid_losses, axis=0))\n",
    "\n",
    "ml.m.df_node_encar['grid_losses'] = 0"
   ]
  },
  {
   "cell_type": "markdown",
   "metadata": {},
   "source": [
    "## Adjust PHS properties\n",
    "* Harmonize PHS properties in all countries"
   ]
  },
  {
   "cell_type": "code",
   "execution_count": null,
   "metadata": {
    "ExecuteTime": {
     "end_time": "2020-04-14T06:49:47.772235Z",
     "start_time": "2020-04-14T06:49:47.755388Z"
    }
   },
   "outputs": [],
   "source": [
    "# Set PHS efficiency to 75% consistently in all countries\n",
    "list_HYD_STO = ml.m.mps.pp2pp('HYD_STO')\n",
    "ml.m.df_plant_encar.loc[ml.m.df_plant_encar.pp_id.isin(list_HYD_STO), 'st_lss_rt'] = 0.25\n",
    "# Set PHS discharge duration to 6 hours\n",
    "ml.m.df_plant_encar.loc[ml.m.df_plant_encar.pp_id.isin(list_HYD_STO), 'discharge_duration'] = 6"
   ]
  },
  {
   "cell_type": "markdown",
   "metadata": {},
   "source": [
    "# Build full model\n",
    "Proceed with the initialization of the model after the modification of the input dataframes. `build_model` continues where it last stopped."
   ]
  },
  {
   "cell_type": "code",
   "execution_count": null,
   "metadata": {
    "ExecuteTime": {
     "end_time": "2020-04-14T06:51:51.773077Z",
     "start_time": "2020-04-14T06:49:49.326836Z"
    },
    "scrolled": true
   },
   "outputs": [],
   "source": [
    "ml.build_model()"
   ]
  },
  {
   "cell_type": "markdown",
   "metadata": {},
   "source": [
    "# Model component adjustments\n",
    "* Define a new parameter for the stored energy cost and include it in the objective function."
   ]
  },
  {
   "cell_type": "code",
   "execution_count": null,
   "metadata": {
    "ExecuteTime": {
     "end_time": "2020-04-14T06:51:57.831676Z",
     "start_time": "2020-04-14T06:51:51.775658Z"
    }
   },
   "outputs": [],
   "source": [
    "ml.m.df_plant_encar['ec'] = np.where(\n",
    "        ml.m.df_plant_encar.pp_id.isin(list(ml.m.st)),\n",
    "        ml.m.mps.id_to_name(\n",
    "                ml.m.df_plant_encar).pt.replace(\n",
    "                        {'NEW_STO': 1e-4, 'HYD_STO': 1e-3}), 0)\n",
    "\n",
    "parec = Par('ec', (ml.m.st, ml.m.ca), 'df_plant_encar', 'ec', ['pp_id'], ml.m.st, default=0)\n",
    "parameter = ParameterAdder(ml.m, parec)\n",
    "ml.m.dict_par[parec.parameter_name] = parameter\n",
    "parameter.init_update()\n",
    "\n",
    "self = ml.m\n",
    "\n",
    "def objective_rule_quad(self):\n",
    "\n",
    "    nnn, nn = [None] * 3, [None] * 2\n",
    "    return (# FUEL COST CONSTANT\n",
    "            sum(self.vc_fl_pp_yr[pp, ca, fl]\n",
    "                * self.nd_weight[self.mps.dict_plant_2_node_id[pp]]\n",
    "                for (pp, ca, fl)\n",
    "                in set_to_list(self.pp_cafl - self.lin_cafl, nnn))\n",
    "            # FUEL COST LINEAR\n",
    "          + self.get_vc_fl()\n",
    "            # EMISSION COST LINEAR\n",
    "          + self.get_vc_co()\n",
    "          + sum(self.vc_co2_pp_yr[pp, ca]\n",
    "                * self.nd_weight[self.mps.dict_plant_2_node_id[pp]]\n",
    "                for (pp, ca) in set_to_list(self.pp_ca - self.lin_ca, nn))\n",
    "          + sum(self.vc_om_pp_yr[pp, ca]\n",
    "                * self.nd_weight[self.mps.dict_plant_2_node_id[pp]]\n",
    "                for (pp, ca) in set_to_list(self.ppall_ca, nn))\n",
    "          + sum(self.vc_ramp_yr[pp, ca]\n",
    "                * self.nd_weight[self.mps.dict_plant_2_node_id[pp]]\n",
    "                for (pp, ca) in set_to_list(self.rp_ca, nn))\n",
    "          + sum(self.fc_om_pp_yr[pp, ca]\n",
    "                * self.nd_weight[self.mps.dict_plant_2_node_id[pp]]\n",
    "                for (pp, ca) in set_to_list(self.ppall_ca, nn))\n",
    "          + sum(self.fc_cp_pp_yr[pp, ca]\n",
    "                * self.nd_weight[self.mps.dict_plant_2_node_id[pp]]\n",
    "                for (pp, ca) in set_to_list(self.add_ca, nn))\n",
    "\n",
    "          # ADDITIONAL COST ON STORAGE ENERGY CONTENT\n",
    "          + sum(self.erg_st[sy, pp, ca] * self.ec[pp, ca]\n",
    "                for sy, pp, ca in set_to_list(self.sy_st_ca, [None, None, None]))\n",
    "          )\n",
    "\n",
    "self.cadd('objective_quad', rule=objective_rule_quad,\n",
    "          sense=po.minimize, objclass=po.Objective)"
   ]
  },
  {
   "cell_type": "markdown",
   "metadata": {},
   "source": [
    "# Define the model modifications"
   ]
  },
  {
   "cell_type": "code",
   "execution_count": null,
   "metadata": {
    "ExecuteTime": {
     "end_time": "2020-04-14T06:53:04.824123Z",
     "start_time": "2020-04-14T06:53:04.777198Z"
    }
   },
   "outputs": [],
   "source": [
    "import wrapt\n",
    "\n",
    "class ModelLoopModifier():\n",
    "    '''\n",
    "    The purpose of this class is to modify the parameters of the BaseModel\n",
    "    objects in dependence on the current run_id.\n",
    "\n",
    "    This might include the modification of parameters like CO2 prices,\n",
    "    capacities, but also more profound modifications like the\n",
    "    redefinition of constraints.\n",
    "    '''\n",
    "\n",
    "    def __init__(self, ml):\n",
    "        '''\n",
    "        To initialize, the ModelBase object is made an instance attribute.\n",
    "        '''\n",
    "\n",
    "        self.ml = ml\n",
    "\n",
    "        self.fn_def_run, self.csv_df_out = self.ml.get_def_run_name()\n",
    "\n",
    "    def select_storage_energy_cost(self, dict_ec):\n",
    "\n",
    "        slct_ec = dict_ec[self.ml.dct_step['swec']]\n",
    "\n",
    "        vals_ec = ({'HYD_STO': 1e-1, 'NEW_STO': 1e-2} if slct_ec == 'early_phs'\n",
    "                   else {'HYD_STO': 1e-2, 'NEW_STO': 1e-1})\n",
    "\n",
    "        df_data = self.ml.m.df_plant_encar.loc[self.ml.m.df_plant_encar.pp_id.isin(self.ml.m.st)]\n",
    "        df_data = self.ml.m.mps.id_to_name(df_data).set_index(['pp_id', 'ca_id']).pt.replace(vals_ec).rename('ec')\n",
    "\n",
    "        par = self.ml.m.dict_par['ec']\n",
    "        par.init_update(df_data.reset_index())\n",
    "\n",
    "        self.ml.dct_vl['swec_vl'] = str(slct_ec)\n",
    "\n",
    "\n",
    "    def select_new_storage_capacity(self, dict_st):\n",
    "\n",
    "        slct_st = dict_st[self.ml.dct_step['swst']]\n",
    "\n",
    "        list_pt_hyd = self.ml.m.df_def_pp_type.query('pt in [\"HYD_STO\"]').pt_id.tolist()\n",
    "        list_pt_new = self.ml.m.df_def_pp_type.query('pt in [\"NEW_STO\"]').pt_id.tolist()\n",
    "        ids_hyd_sto = self.ml.m.df_def_plant.query(f'pt_id in {list_pt_hyd}').pp_id.tolist()\n",
    "        ids_new_sto = self.ml.m.df_def_plant.query(f'pt_id in {list_pt_new}').pp_id.tolist()\n",
    "\n",
    "        cols = ['pp_id', 'ca_id']\n",
    "        df_cap = self.ml.io.modwr.dict_comp_obj['cap_pwr_leg'].get_df().set_index(cols).value.rename('cap')\n",
    "        df_cap = df_cap.loc[ids_hyd_sto].reset_index()\n",
    "        df_cap = self.ml.m.mps.id_to_name(df_cap).set_index('nd_id').cap\n",
    "        df_cap = df_cap.reset_index()\n",
    "\n",
    "        df_dd = self.ml.io.modwr.dict_comp_obj['discharge_duration'].get_df()[cols + ['value']]\n",
    "        df_dd = df_dd.loc[df_dd.pp_id.isin(ids_hyd_sto + ids_new_sto)]\n",
    "        df_dd = self.ml.m.mps.id_to_name(df_dd)\n",
    "        df_dd = df_dd.pivot_table(index='nd_id', columns='fl', values='value')\n",
    "        df_dd = df_dd.rename(columns=lambda x: f'dd_{x}').reset_index()\n",
    "\n",
    "        df = pd.merge(df_cap, df_dd)\n",
    "\n",
    "        df['scale'] = slct_st\n",
    "\n",
    "        df['cap_new'] = df.cap * df.dd_pumped_hydro * df.scale / df.dd_new_storage\n",
    "\n",
    "        map_pp_id = self.ml.m.df_def_plant.query(f'pp_id in {ids_new_sto}').set_index('nd_id').pp_id\n",
    "\n",
    "        df = (df.join(map_pp_id, on='nd_id')\n",
    "                .assign(ca_id=0, cap_pwr_leg=lambda x: x.cap_new))[['pp_id', 'ca_id', 'cap_pwr_leg']]\n",
    "\n",
    "        par = self.ml.m.dict_par['cap_pwr_leg']\n",
    "        par.init_update(df)\n",
    "\n",
    "        self.ml.dct_vl['swst_vl'] = f'{slct_st*100:.1f}%'\n",
    "\n",
    "    def select_frozen_params(self, dict_fz):\n",
    "\n",
    "        slct_fz = dict_fz[self.ml.dct_step['swfz']]\n",
    "\n",
    "        self.ml.dct_vl['swfz_vl'] = str(slct_fz)\n",
    "\n",
    "        return slct_fz\n",
    "    \n",
    "\n",
    "    def set_future_year(self, dict_fy, slct_fz='default'):\n",
    "\n",
    "        rng_fy = np.arange(len(dict_fy))\n",
    "        rng_fyp = np.ones(len(rng_fy)) * {val: key for key, val in dict_fy.items()}[2015]\n",
    "        dict_previous = dict(zip(rng_fy, rng_fyp))\n",
    "\n",
    "        slct_fy = self.ml.dct_step['swfy']\n",
    "\n",
    "        str_fy = '_yr' + str(dict_fy[slct_fy]) if dict_fy[slct_fy] != 2015 else ''\n",
    "        str_fyp = '_yr' + str(dict_fy[dict_previous[slct_fy]]) if dict_fy[dict_previous[slct_fy]] != 2015 else ''\n",
    "\n",
    "        @wrapt.decorator\n",
    "        def log(f, self, args, kwargs):\n",
    "            str_fy, slct_col, mt_fact = f(*args, **kwargs)\n",
    "\n",
    "            msg = f\"Setting vc_fl to values {str_fy.replace('_', ' ') if str_fy else 'default'}\"\n",
    "            msg += f' from value column \"{slct_col}\"' if slct_col else ''\n",
    "            msg += f' using monthly adjustment col \"{mt_fact}\"' if mt_fact else ''\n",
    "\n",
    "            logger.info(msg)\n",
    "\n",
    "        #######################################################################\n",
    "        @log\n",
    "        def set_fuel_prices(str_fy=None):\n",
    "            ''' Select fuel price values for selected year. '''\n",
    "\n",
    "            if not str_fy:\n",
    "                str_fy = ''\n",
    "\n",
    "            slct_col = 'vc_fl' + str_fy\n",
    "\n",
    "            par = self.ml.m.dict_par['vc_fl']\n",
    "            df_new = self.ml.m.df_fuel_node_encar[['fl_id', 'nd_id', slct_col]]\n",
    "            df_new = df_new.rename(columns={slct_col: 'vc_fl'})\n",
    "            col_mt_fact = 'mt_fact' if not str_fy else 'mt_fact_others'\n",
    "            \n",
    "            par.init_update(df_new, col_mt_fact)\n",
    "\n",
    "            return str_fy, slct_col, col_mt_fact\n",
    "\n",
    "        #######################################################################\n",
    "        @log\n",
    "        def set_cap_pwr_leg(str_fy=None):\n",
    "            ''' Select power plant capacities for selected year. '''\n",
    "\n",
    "            slct_col = 'cap_pwr_leg' + str_fy\n",
    "\n",
    "            par = self.ml.m.dict_par['cap_pwr_leg']\n",
    "            cols = par.index_cols + [slct_col]\n",
    "            data_cap = self.ml.m.df_plant_encar.loc[:, cols].copy()\n",
    "            col_rename = {slct_col: par.value_col}\n",
    "            data_cap = data_cap.rename(columns=col_rename)\n",
    "\n",
    "            par.init_update(data_cap)\n",
    "\n",
    "            return str_fy, slct_col, None\n",
    "\n",
    "        #######################################################################\n",
    "        @log\n",
    "        def set_cap_avlb(str_fy=None):\n",
    "\n",
    "            if str_fy == None:\n",
    "                str_fy = ''\n",
    "\n",
    "            col_mt_fact = 'mt_fact' if not str_fy else 'mt_fact_others'\n",
    "\n",
    "            msg = ('Setting cap_avlb monthly adjustment to values'\n",
    "                   + ' from column {}'.format(col_mt_fact))\n",
    "\n",
    "            logger.info(msg)\n",
    "\n",
    "            par = self.ml.m.dict_par['cap_avlb']\n",
    "            mask_pp = self.ml.m.df_plant_encar.pp_id.isin(self.ml.m.pp)\n",
    "            df_new = self.ml.m.df_plant_encar.loc[mask_pp,\n",
    "                                                  ['pp_id', 'ca_id', 'cap_avlb']]\n",
    "\n",
    "            par.init_update(df_new, col_mt_fact)\n",
    "\n",
    "            return str_fy, None, col_mt_fact\n",
    "\n",
    "        #######################################################################\n",
    "        @log\n",
    "        def set_dmnd(str_fy=None):\n",
    "            ''' Scale demand profiles for selected year. '''\n",
    "\n",
    "            if str_fy == None:\n",
    "                str_fy = ''\n",
    "\n",
    "            slct_col = 'dmnd_sum' + str_fy\n",
    "            slct_col_prev = 'dmnd_sum' + str_fyp\n",
    "\n",
    "            last_dmnd = self.ml.m.df_node_encar.set_index(['nd_id', 'ca_id'])[slct_col_prev]\n",
    "            next_dmnd = self.ml.m.df_node_encar.set_index(['nd_id', 'ca_id'])[slct_col]\n",
    "\n",
    "            scaling_factor = (next_dmnd / last_dmnd).rename('scale')\n",
    "\n",
    "\n",
    "            df = IO.param_to_df(self.ml.m.dmnd)\n",
    "            df = df.join(scaling_factor, on=scaling_factor.index.names)\n",
    "            df['value'] = df.value * df.scale\n",
    "\n",
    "            data_dmnd = df[['sy', 'nd_id', 'ca_id', 'value']]\n",
    "\n",
    "            par = self.ml.m.dict_par['dmnd']\n",
    "            par.init_update(data_dmnd)\n",
    "\n",
    "            return str_fy, slct_col, None\n",
    "\n",
    "        #######################################################################\n",
    "        @log\n",
    "        def set_co2_price(str_fy=None):\n",
    "            ''' Select CO2 price for selected year. '''\n",
    "\n",
    "            slct_col = 'price_co2' + str_fy\n",
    "\n",
    "            df_new = self.ml.m.df_def_node[['nd_id', slct_col]]\n",
    "            par = self.ml.m.dict_par['price_co2']\n",
    "            col_mt_fact = 'mt_fact' if not str_fy else 'mt_fact_others'\n",
    "            par.init_update(df_new, col_mt_fact)\n",
    "\n",
    "            return str_fy, slct_col, col_mt_fact\n",
    "\n",
    "        #######################################################################\n",
    "        @log\n",
    "        def set_erg_inp(str_fy=None):\n",
    "            ''' Select exogenous energy production for selected year. '''\n",
    "\n",
    "            slct_col = 'erg_inp' + str_fy\n",
    "            par = self.ml.m.dict_par['erg_inp']\n",
    "            data_erg_inp = (self.ml.m.df_fuel_node_encar[par.index_cols + [slct_col]]\n",
    "                                   .rename(columns={slct_col: par.value_col}))\n",
    "\n",
    "            par.init_update(data_erg_inp)\n",
    "\n",
    "            return str_fy, slct_col, None\n",
    "\n",
    "        #######################################################################\n",
    "\n",
    "        @log\n",
    "        def set_erg_chp(str_fy=None):\n",
    "            ''' Select exogenous chp energy production for selected year. '''\n",
    "\n",
    "            slct_col = 'erg_chp' +  str_fy\n",
    "\n",
    "            par = self.ml.m.dict_par['erg_chp']\n",
    "            mask_chp = self.ml.m.df_plant_encar.pp_id.isin(self.ml.m.chp)\n",
    "            data_erg_chp = (\n",
    "                self.ml.m.df_plant_encar.loc[mask_chp, ['pp_id', 'ca_id', slct_col]]\n",
    "                         .rename(columns={slct_col: par.value_col}))\n",
    "            par.init_update(data_erg_chp)\n",
    "\n",
    "            return str_fy, slct_col, None\n",
    "\n",
    "\n",
    "        if not slct_fz == 'frz_vc':\n",
    "            set_fuel_prices(str_fy)\n",
    "        if not slct_fz == 'frz_cap':\n",
    "            set_cap_pwr_leg(str_fy)\n",
    "        if not slct_fz == 'frz_cap':\n",
    "            set_cap_avlb(str_fy)\n",
    "        if not slct_fz == 'frz_cap':\n",
    "            set_dmnd(str_fy)\n",
    "        if not slct_fz == 'frz_vc':\n",
    "            set_co2_price(str_fy)\n",
    "        if not slct_fz == 'frz_cap':\n",
    "            set_erg_inp(str_fy)\n",
    "        if not slct_fz == 'frz_cap':\n",
    "            set_erg_chp(str_fy)\n",
    "\n",
    "        self.ml.dct_vl['swfy_vl'] = 'yr' + str(dict_fy[slct_fy])"
   ]
  },
  {
   "cell_type": "markdown",
   "metadata": {},
   "source": [
    "# Run the model"
   ]
  },
  {
   "cell_type": "code",
   "execution_count": null,
   "metadata": {},
   "outputs": [],
   "source": []
  },
  {
   "cell_type": "code",
   "execution_count": null,
   "metadata": {
    "ExecuteTime": {
     "start_time": "2020-04-14T06:53:08.702Z"
    }
   },
   "outputs": [],
   "source": [
    "def run_model(run_id):\n",
    "\n",
    "    mlm = ModelLoopModifier(ml)\n",
    "\n",
    "    ml.select_run(run_id)\n",
    "\n",
    "    logger.info('reset_parameters')\n",
    "    ml.m.reset_all_parameters()\n",
    "    ml.m.add_transmission_bounds_rules()\n",
    "    ml.m.supply.activate()\n",
    "    ml.m.erg_store_level.activate()\n",
    "    ml.m.st_erg_capac.activate()\n",
    "    ml.m.ppst_capac.activate()\n",
    "    ml.m.unfix_all_vars()\n",
    "\n",
    "    logger.info('select_frozen_params')\n",
    "    slct_fz = mlm.select_frozen_params(dict_fz=dict_fz)\n",
    "    logger.info('set_future_year')\n",
    "    mlm.set_future_year(dict_fy=dict_fy, slct_fz=slct_fz)\n",
    "    logger.info('select_new_storage_capacity')\n",
    "    mlm.select_new_storage_capacity(dict_st=dict_st)\n",
    "    logger.info('select_storage_preference')\n",
    "    mlm.select_storage_energy_cost(dict_ec=dict_ec)\n",
    "\n",
    "    #########################################\n",
    "    ############### RUN MODEL ###############\n",
    "\n",
    "    df_vc_om = IO.param_to_df(ml.m.vc_om, ['pp_id', 'ca_id'])\n",
    "    df_vc_om = df_vc_om.assign(pp=df_vc_om.pp_id.replace(ml.m.mps.dict_pp))\n",
    "    df_vc_om = df_vc_om.loc[df_vc_om.pp.str.contains('SFH_.._STO')]\n",
    "\n",
    "    for key, val in df_vc_om.set_index(['pp_id', 'ca_id']).value.to_dict().items():\n",
    "        ml.m.vc_om[key] = 0.1\n",
    "\n",
    "    logger.info('fill_peaker_plants')\n",
    "    ml.m.fill_peaker_plants(demand_factor=5,\n",
    "                            list_peak=[(ml.m.mps.dict_pp_id['CH_GAS_LIN'], 0)]\n",
    "                            if not ml.m.setlst['peak'] else []\n",
    "                            )\n",
    "\n",
    "    logger.info('_limit_prof_to_cap')\n",
    "    ml.m._limit_prof_to_cap()\n",
    "\n",
    "    # ~~~~~~~~~~~~~~~~~~~ VRE capacity fixed --> fix corresponding pwr\n",
    "\n",
    "    logger.info('fixing VRE pwr')\n",
    "    dfcap = IO.param_to_df(ml.m.cap_pwr_leg).rename(columns={'value': 'cap'})\n",
    "    dfcap = dfcap.loc[dfcap.pp_id.isin(ml.m.pr)].set_index('pp_id').cap\n",
    "    dfprf = IO.param_to_df(ml.m.supprof).rename(columns={'value': 'cf'})\n",
    "    dfprf = dfprf.join(dfcap, on=dfcap.index.names)\n",
    "    dfprf['value'] = dfprf.cf * dfprf.cap\n",
    "\n",
    "    dict_val = dfprf.set_index(['sy', 'pp_id', 'ca_id']).value.to_dict()\n",
    "\n",
    "    for key in ml.m.supprof:\n",
    "        # if this has been fixed by swcp already, don't touch it\n",
    "        if not ml.m.pwr[key].fixed:\n",
    "            ml.m.pwr[key] = dict_val[key]\n",
    "            ml.m.pwr[key].fix()\n",
    "\n",
    "    ml.perform_model_run()\n",
    "\n",
    "ml.m.solver.options['barrier convergetol'] = 5e-9\n",
    "\n",
    "from grimsel.auxiliary.multiproc import run_parallel, run_sequential\n",
    "print('RUNNING')\n",
    "run_parallel(ml, run_model, 10, groupby=['swfy', 'swec'], adjust_logger_levels=True)\n",
    "#run_sequential(ml, run_model)"
   ]
  }
 ],
 "metadata": {
  "kernelspec": {
   "display_name": "Python (grimsel_symenergy_env)",
   "language": "python",
   "name": "grimsel_symenergy_env"
  },
  "language_info": {
   "codemirror_mode": {
    "name": "ipython",
    "version": 3
   },
   "file_extension": ".py",
   "mimetype": "text/x-python",
   "name": "python",
   "nbconvert_exporter": "python",
   "pygments_lexer": "ipython3",
   "version": "3.8.2"
  },
  "toc": {
   "base_numbering": 1,
   "nav_menu": {},
   "number_sections": true,
   "sideBar": true,
   "skip_h1_title": false,
   "title_cell": "Table of Contents",
   "title_sidebar": "Contents",
   "toc_cell": true,
   "toc_position": {},
   "toc_section_display": true,
   "toc_window_display": true
  }
 },
 "nbformat": 4,
 "nbformat_minor": 2
}
